{
 "cells": [
  {
   "cell_type": "code",
   "execution_count": 2,
   "id": "5288df2f",
   "metadata": {},
   "outputs": [],
   "source": [
    "import numpy as np \n",
    "import pandas as pd \n",
    "import matplotlib.pyplot as plt\n",
    "import cv2\n",
    "import tensorflow as tf\n",
    "from PIL import Image\n",
    "import os\n",
    "from sklearn.model_selection import train_test_split\n",
    "from keras.utils import to_categorical\n",
    "from tensorflow.keras.models import Sequential, load_model\n",
    "from keras.layers import Conv2D, MaxPool2D, Dense, Flatten, Dropout"
   ]
  },
  {
   "cell_type": "code",
   "execution_count": 3,
   "id": "6c405b78",
   "metadata": {},
   "outputs": [
    {
     "name": "stdout",
     "output_type": "stream",
     "text": [
      "(39209, 30, 30, 3) (39209,)\n"
     ]
    }
   ],
   "source": [
    "data = []\n",
    "labels = []\n",
    "classes = 43\n",
    "cur_path = os.getcwd()\n",
    "\n",
    "for i in range(classes):\n",
    "    path = os.path.join(cur_path,'train',str(i))\n",
    "    images = os.listdir(path)\n",
    "\n",
    "    for a in images:\n",
    "        try:\n",
    "            image = Image.open(path + '\\\\'+ a)\n",
    "            image = image.resize((30,30))\n",
    "            image = np.array(image)\n",
    "            #sim = Image.fromarray(image)\n",
    "            data.append(image)\n",
    "            labels.append(i)\n",
    "        except:\n",
    "            print(\"Error loading image\")\n",
    "\n",
    "data = np.array(data)\n",
    "labels = np.array(labels)\n",
    "\n",
    "print(data.shape, labels.shape)"
   ]
  },
  {
   "cell_type": "code",
   "execution_count": 4,
   "id": "20db3637",
   "metadata": {},
   "outputs": [
    {
     "name": "stdout",
     "output_type": "stream",
     "text": [
      "(31367, 30, 30, 3) (7842, 30, 30, 3) (31367,) (7842,)\n"
     ]
    }
   ],
   "source": [
    "X_train, X_test, y_train, y_test = train_test_split(data, labels, test_size=0.2, random_state=42)\n",
    "\n",
    "print(X_train.shape, X_test.shape, y_train.shape, y_test.shape)"
   ]
  },
  {
   "cell_type": "code",
   "execution_count": 5,
   "id": "560885cb",
   "metadata": {},
   "outputs": [],
   "source": [
    "y_train = to_categorical(y_train, 43)\n",
    "y_test = to_categorical(y_test, 43)"
   ]
  },
  {
   "cell_type": "code",
   "execution_count": 6,
   "id": "8c00335e",
   "metadata": {},
   "outputs": [],
   "source": [
    "model = Sequential()\n",
    "model.add(Conv2D(filters=32, kernel_size=(5,5), activation='relu', input_shape=X_train.shape[1:]))\n",
    "model.add(Conv2D(filters=32, kernel_size=(5,5), activation='relu'))\n",
    "model.add(MaxPool2D(pool_size=(2, 2)))\n",
    "model.add(Dropout(rate=0.25))\n",
    "model.add(Conv2D(filters=64, kernel_size=(3, 3), activation='relu'))\n",
    "model.add(Conv2D(filters=64, kernel_size=(3, 3), activation='relu'))\n",
    "model.add(MaxPool2D(pool_size=(2, 2)))\n",
    "model.add(Dropout(rate=0.25))\n",
    "model.add(Flatten())\n",
    "model.add(Dense(256, activation='relu'))\n",
    "model.add(Dropout(rate=0.5))\n",
    "model.add(Dense(43, activation='softmax'))"
   ]
  },
  {
   "cell_type": "code",
   "execution_count": 7,
   "id": "a61950bf",
   "metadata": {},
   "outputs": [
    {
     "name": "stdout",
     "output_type": "stream",
     "text": [
      "Epoch 1/15\n",
      "981/981 [==============================] - 39s 39ms/step - loss: 1.8682 - accuracy: 0.5238 - val_loss: 0.5037 - val_accuracy: 0.8637\n",
      "Epoch 2/15\n",
      "981/981 [==============================] - 39s 39ms/step - loss: 0.6326 - accuracy: 0.8200 - val_loss: 0.1654 - val_accuracy: 0.9598\n",
      "Epoch 3/15\n",
      "981/981 [==============================] - 39s 40ms/step - loss: 0.4256 - accuracy: 0.8795 - val_loss: 0.1499 - val_accuracy: 0.9642\n",
      "Epoch 4/15\n",
      "981/981 [==============================] - 39s 39ms/step - loss: 0.3200 - accuracy: 0.9085 - val_loss: 0.0891 - val_accuracy: 0.9774\n",
      "Epoch 5/15\n",
      "981/981 [==============================] - 39s 40ms/step - loss: 0.2874 - accuracy: 0.9210 - val_loss: 0.0540 - val_accuracy: 0.9852\n",
      "Epoch 6/15\n",
      "981/981 [==============================] - 39s 40ms/step - loss: 0.2629 - accuracy: 0.9259 - val_loss: 0.0845 - val_accuracy: 0.9762\n",
      "Epoch 7/15\n",
      "981/981 [==============================] - 39s 40ms/step - loss: 0.2329 - accuracy: 0.9364 - val_loss: 0.0946 - val_accuracy: 0.9736\n",
      "Epoch 8/15\n",
      "981/981 [==============================] - 42s 43ms/step - loss: 0.2211 - accuracy: 0.9391 - val_loss: 0.0610 - val_accuracy: 0.9814\n",
      "Epoch 9/15\n",
      "981/981 [==============================] - 40s 41ms/step - loss: 0.2281 - accuracy: 0.9366 - val_loss: 0.0972 - val_accuracy: 0.9685\n",
      "Epoch 10/15\n",
      "981/981 [==============================] - 41s 42ms/step - loss: 0.1967 - accuracy: 0.9490 - val_loss: 0.0387 - val_accuracy: 0.9915\n",
      "Epoch 11/15\n",
      "981/981 [==============================] - 41s 41ms/step - loss: 0.2061 - accuracy: 0.9462 - val_loss: 0.0424 - val_accuracy: 0.9884\n",
      "Epoch 12/15\n",
      "981/981 [==============================] - 40s 41ms/step - loss: 0.2072 - accuracy: 0.9455 - val_loss: 0.0466 - val_accuracy: 0.9884\n",
      "Epoch 13/15\n",
      "981/981 [==============================] - 41s 42ms/step - loss: 0.1797 - accuracy: 0.9544 - val_loss: 0.0675 - val_accuracy: 0.9815\n",
      "Epoch 14/15\n",
      "981/981 [==============================] - 42s 43ms/step - loss: 0.2026 - accuracy: 0.9500 - val_loss: 0.0652 - val_accuracy: 0.9824\n",
      "Epoch 15/15\n",
      "981/981 [==============================] - 42s 42ms/step - loss: 0.1935 - accuracy: 0.9509 - val_loss: 0.0457 - val_accuracy: 0.9885\n"
     ]
    }
   ],
   "source": [
    "model.compile(loss='categorical_crossentropy', optimizer='adam', metrics=['accuracy'])\n",
    "\n",
    "epochs = 15\n",
    "history = model.fit(X_train, y_train, batch_size=32, epochs=epochs, validation_data=(X_test, y_test))\n",
    "model.save(\"my_model.h5\")"
   ]
  },
  {
   "cell_type": "code",
   "execution_count": 8,
   "id": "16a87805",
   "metadata": {},
   "outputs": [
    {
     "data": {
      "image/png": "[encoded data removed]",
      "text/plain": [
       "<Figure size 432x288 with 1 Axes>"
      ]
     },
     "metadata": {
      "needs_background": "light"
     },
     "output_type": "display_data"
    },
    {
     "data": {
      "image/png": "[encoded data removed]",
      "text/plain": [
       "<Figure size 432x288 with 1 Axes>"
      ]
     },
     "metadata": {
      "needs_background": "light"
     },
     "output_type": "display_data"
    }
   ],
   "source": [
    "plt.figure(0)\n",
    "plt.plot(history.history['accuracy'], label='training accuracy')\n",
    "plt.plot(history.history['val_accuracy'], label='val accuracy')\n",
    "plt.title('Accuracy')\n",
    "plt.xlabel('epochs')\n",
    "plt.ylabel('accuracy')\n",
    "plt.legend()\n",
    "plt.show()\n",
    "\n",
    "plt.figure(1)\n",
    "plt.plot(history.history['loss'], label='training loss')\n",
    "plt.plot(history.history['val_loss'], label='val loss')\n",
    "plt.title('Loss')\n",
    "plt.xlabel('epochs')\n",
    "plt.ylabel('loss')\n",
    "plt.legend()\n",
    "plt.show()"
   ]
  },
  {
   "cell_type": "code",
   "execution_count": 9,
   "id": "a3c15817",
   "metadata": {},
   "outputs": [
    {
     "name": "stdout",
     "output_type": "stream",
     "text": [
      "niceee\n"
     ]
    }
   ],
   "source": [
    "print(\"niceee\")"
   ]
  },
  {
   "cell_type": "code",
   "execution_count": 11,
   "id": "80c48e31",
   "metadata": {},
   "outputs": [
    {
     "name": "stdout",
     "output_type": "stream",
     "text": [
      "0.9551860649247823\n"
     ]
    }
   ],
   "source": [
    "y_test = pd.read_csv('Test.csv')\n",
    "\n",
    "labels = y_test[\"ClassId\"].values\n",
    "imgs = y_test[\"Path\"].values\n",
    "\n",
    "data=[]\n",
    "\n",
    "for img in imgs:\n",
    "    image = Image.open(img)\n",
    "    image = image.resize((30,30))\n",
    "    data.append(np.array(image))\n",
    "\n",
    "X_test=np.array(data)\n",
    "\n",
    "pred = np.argmax(model.predict(X_test), axis = -1)\n",
    "\n",
    "#Accuracy with the test data\n",
    "from sklearn.metrics import accuracy_score\n",
    "print(accuracy_score(labels, pred))"
   ]
  },
  {
   "cell_type": "code",
   "execution_count": null,
   "id": "603f992c",
   "metadata": {},
   "outputs": [],
   "source": []
  }
 ],
 "metadata": {
  "kernelspec": {
   "display_name": "Python 3",
   "language": "python",
   "name": "python3"
  },
  "language_info": {
   "codemirror_mode": {
    "name": "ipython",
    "version": 3
   },
   "file_extension": ".py",
   "mimetype": "text/x-python",
   "name": "python",
   "nbconvert_exporter": "python",
   "pygments_lexer": "ipython3",
   "version": "3.9.5"
  }
 },
 "nbformat": 4,
 "nbformat_minor": 5
}
